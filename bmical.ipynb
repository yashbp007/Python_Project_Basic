{
 "cells": [
  {
   "cell_type": "code",
   "execution_count": 28,
   "id": "b698a7d4-16c6-403b-bb0c-bf85a4313732",
   "metadata": {},
   "outputs": [
    {
     "name": "stdin",
     "output_type": "stream",
     "text": [
      "Enter your good name:  Yash\n",
      "Enter your weightin pounds:  69\n",
      "Enter your height here:  175\n"
     ]
    },
    {
     "name": "stdout",
     "output_type": "stream",
     "text": [
      "1.5839020408163265\n",
      "Yash, You are under weight, Work hard gain some weight!\n"
     ]
    }
   ],
   "source": [
    "name = input(\"Enter your good name: \")\n",
    "weight = int(input(\"Enter your weightin pounds: \"))\n",
    "height = int(input(\"Enter your height here: \"))\n",
    "BMI = (weight / (height ** 2)) * 703\n",
    "print(BMI)\n",
    "\n",
    "#here your stats\n",
    "if BMI>0:\n",
    "    if(BMI<18.5):\n",
    "        print(name + \", You are under weight, Work hard gain some weight!\" )\n",
    "    elif(BMI<= 24.5):\n",
    "        print(name + \", You are fit nice!\")\n",
    "    elif(BMI<= 29.5):\n",
    "        print(name + \", You are overweight, GO work out!\")\n",
    "    elif(BMI<= 34.9):\n",
    "        print(name + \", You are obeses, GO work out Hard!\")\n",
    "    else:\n",
    "        print(name + \"Provide valid input!\")\n",
    "    "
   ]
  },
  {
   "cell_type": "code",
   "execution_count": 24,
   "id": "5a46c5dd-44e9-41ca-ac73-1cc20b807549",
   "metadata": {},
   "outputs": [
    {
     "data": {
      "text/plain": [
       "float"
      ]
     },
     "execution_count": 24,
     "metadata": {},
     "output_type": "execute_result"
    }
   ],
   "source": [
    "type(BMI\n",
    "    )"
   ]
  },
  {
   "cell_type": "code",
   "execution_count": null,
   "id": "21bbfeda-b8ff-4bcc-bfa1-386a673315eb",
   "metadata": {},
   "outputs": [],
   "source": []
  }
 ],
 "metadata": {
  "kernelspec": {
   "display_name": "Python 3 (ipykernel)",
   "language": "python",
   "name": "python3"
  },
  "language_info": {
   "codemirror_mode": {
    "name": "ipython",
    "version": 3
   },
   "file_extension": ".py",
   "mimetype": "text/x-python",
   "name": "python",
   "nbconvert_exporter": "python",
   "pygments_lexer": "ipython3",
   "version": "3.12.4"
  }
 },
 "nbformat": 4,
 "nbformat_minor": 5
}
